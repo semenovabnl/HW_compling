{
 "cells": [
  {
   "cell_type": "code",
   "execution_count": 43,
   "metadata": {},
   "outputs": [],
   "source": [
    "import gensim\n",
    "import json\n",
    "import re\n",
    "from nltk.tokenize import word_tokenize\n",
    "from pymorphy2 import MorphAnalyzer\n",
    "import pyLDAvis.gensim \n",
    "from pymystem3 import Mystem\n",
    "from nltk.corpus import stopwords\n",
    "morph = MorphAnalyzer()\n",
    "mystem = Mystem()\n",
    "import spacy"
   ]
  },
  {
   "cell_type": "markdown",
   "metadata": {},
   "source": [
    "## Домашнее задание"
   ]
  },
  {
   "cell_type": "markdown",
   "metadata": {},
   "source": [
    "Основаная задача - **построить хорошую тематическую модель с интерпретируемыми топиками**.\n",
    "\n",
    "1) сделайте нормализацию (если pymorphy2 работает долго используйте mystem или попробуйте установить быструю версию - `pip install pymorphy2[fast]`, можно использовать какой-то другой токенизатор); \n",
    "\n",
    "2) добавьте нграммы (в тетрадке есть закомменченая ячейка с Phrases); \n",
    "\n",
    "3) сделайте хороший словарь (отфильтруйте слишком частотные и редкие слова, попробуйте удалить стоп-слова); \n",
    "\n",
    "4) постройте несколько LDA моделей (переберите количество тем, можете поменять eta, alpha, passes), если получаются плохие темы, поработайте дополнительно над предобработкой и словарем; \n",
    "\n",
    "5) для самой хорошей модели в отдельной ячейке напечатайте 3 хороших (на ваш вкус) темы;\n",
    "\n",
    "6) между словарем и обучением модели добавьте tfidf (`gensim.models.TfidfModel(corpus, id2word=dictionary); corpus = tfidf[corpus]`);\n",
    "\n",
    "7) заново обучите LDA c теми же параметрами (параметрами самой лучшей модели, заново перебирать не нужно);\n",
    "\n",
    "8) в отдельной ячейке опишите как изменилась модель (приведите несколько тем, которые стали лучше или хуже, или которых раньше вообще не было; можно привести значения перплексии и когерентности для обеих моделей)\n",
    "\n",
    "9) проделайте такие же действия для NMF (образец в конце тетрадки), для построения словаря воспользуйтесь возможностями Count или Tfidf Vectorizer (попробуйте другие значение max_features, min_df, max_df, сделайте нграмы через ngram_range, если хватает памяти), попробуйте такие же количества тем\n",
    "\n",
    "10) в отдельной ячейки напечатайте таблицу с темами лучшей NMF модели, сравните их с теми, что получились в LDA.\n",
    "\n",
    "Сохраните тетрадку с экспериментами и положите её на гитхаб, ссылку на неё укажите в форме.\n",
    "\n",
    "**Оцениваться будут главным образом пункты 5, 8 и 10. (2, 3, 2 баллов соответственно). Чтобы заработать остальные 3 балла, нужно хотя бы немного изменить мой код на промежуточных этапах (добавить что-то, указать другие параметры и т.д). **"
   ]
  },
  {
   "cell_type": "markdown",
   "metadata": {},
   "source": [
    "## Данные"
   ]
  },
  {
   "cell_type": "code",
   "execution_count": 2,
   "metadata": {
    "collapsed": true
   },
   "outputs": [],
   "source": [
    "def remove_tags(text):\n",
    "    text = re.sub(r'<[^>]+>', '', text)\n",
    "    text = re.sub(r'\\t', '', text)\n",
    "    text = re.sub(r'\\d+', '', text)\n",
    "    return text\n",
    "\n",
    "def clean(words):\n",
    "    clean = [morph.parse(word)[0].normal_form for word in words if word.isalnum()]\n",
    "    return clean"
   ]
  },
  {
   "cell_type": "markdown",
   "metadata": {},
   "source": [
    "Возьмем 4 тыс статьи с Хабра. Это мало для хорошей тематической модели, но иначе у нас просто ничего не обучится за семинар."
   ]
  },
  {
   "cell_type": "markdown",
   "metadata": {},
   "source": [
    "В текстах есть тэги. Потрем их. Ещё токенизируем самым простым способом и нормализуем Pymorphy."
   ]
  },
  {
   "cell_type": "code",
   "execution_count": 4,
   "metadata": {
    "scrolled": true
   },
   "outputs": [],
   "source": [
    "habr_texts = [clean(word_tokenize(remove_tags(text.lower()))) for text in open('habr_texts.txt',encoding=\"utf-8\")]"
   ]
  },
  {
   "cell_type": "markdown",
   "metadata": {},
   "source": [
    "попробуем сравнить ТМ на словах и на нграммах"
   ]
  },
  {
   "cell_type": "code",
   "execution_count": 78,
   "metadata": {
    "collapsed": true
   },
   "outputs": [],
   "source": [
    "#немного расширим список стоп-слов\n",
    "stop_words = stopwords.words('russian')\n",
    "stop_words.extend(['get', 'lt', 't', 'gt', 'set', 'urn', 'host', 'where'])"
   ]
  },
  {
   "cell_type": "code",
   "execution_count": 79,
   "metadata": {
    "collapsed": true
   },
   "outputs": [],
   "source": [
    "def remove_stopwords(texts):\n",
    "    return [[word for word in doc if word not in stop_words] for doc in texts]"
   ]
  },
  {
   "cell_type": "code",
   "execution_count": 80,
   "metadata": {},
   "outputs": [],
   "source": [
    "ns_habr_texts = remove_stopwords(habr_texts)"
   ]
  },
  {
   "cell_type": "code",
   "execution_count": 44,
   "metadata": {},
   "outputs": [],
   "source": [
    "#для n-grams\n",
    "ph = gensim.models.Phrases(habr_texts, scoring='default', threshold=0.4, \n",
    "                           common_terms=set(stopwords.words('russian','english'))) # можно указать слова, которые \n",
    "                                                                          #не будут учитываться\n",
    "p = gensim.models.phrases.Phraser(ph)\n",
    "ngrammed_habr_texts = p[habr_texts]"
   ]
  },
  {
   "cell_type": "markdown",
   "metadata": {},
   "source": [
    "### Тематическое моделирование в gensim"
   ]
  },
  {
   "cell_type": "markdown",
   "metadata": {},
   "source": [
    "Для моделей нужно сделать словарь."
   ]
  },
  {
   "cell_type": "code",
   "execution_count": 85,
   "metadata": {
    "collapsed": true
   },
   "outputs": [],
   "source": [
    "dictinary = gensim.corpora.Dictionary(ns_habr_texts)"
   ]
  },
  {
   "cell_type": "code",
   "execution_count": 86,
   "metadata": {
    "collapsed": true
   },
   "outputs": [],
   "source": [
    "dictinary.filter_extremes(no_above=0.3, no_below=30)\n",
    "dictinary.compactify()"
   ]
  },
  {
   "cell_type": "code",
   "execution_count": 87,
   "metadata": {},
   "outputs": [
    {
     "name": "stdout",
     "output_type": "stream",
     "text": [
      "Dictionary(7092 unique tokens: ['a', 'address', 'api', 'architecture', 'async']...)\n"
     ]
    }
   ],
   "source": [
    "print(dictinary) #для слов"
   ]
  },
  {
   "cell_type": "code",
   "execution_count": 69,
   "metadata": {},
   "outputs": [
    {
     "name": "stdout",
     "output_type": "stream",
     "text": [
      "Dictionary(8625 unique tokens: ['a', 'address', 'api', 'architecture', 'azure']...)\n"
     ]
    }
   ],
   "source": [
    "print(dictinary) #для нграмм"
   ]
  },
  {
   "cell_type": "markdown",
   "metadata": {},
   "source": [
    "Преобразуем наши тексты в мешки слов. "
   ]
  },
  {
   "cell_type": "code",
   "execution_count": 88,
   "metadata": {
    "collapsed": true
   },
   "outputs": [],
   "source": [
    "corpus = [dictinary.doc2bow(text) for text in ns_habr_texts]"
   ]
  },
  {
   "cell_type": "code",
   "execution_count": 89,
   "metadata": {},
   "outputs": [],
   "source": [
    "lda = gensim.models.LdaMulticore(corpus, 100, id2word=dictinary, passes=1) # если поддерживается многопоточность\n",
    "#lsi = gensim.models.LdaModel(corpus, 200, id2word=dictinary, passes=5)"
   ]
  },
  {
   "cell_type": "markdown",
   "metadata": {},
   "source": [
    "Посмотрим на топики."
   ]
  },
  {
   "cell_type": "code",
   "execution_count": 90,
   "metadata": {},
   "outputs": [
    {
     "data": {
      "text/plain": [
       "[(37,\n",
       "  '0.004*\"сервер\" + 0.003*\"x\" + 0.003*\"язык\" + 0.003*\"запрос\" + 0.002*\"user\" + 0.002*\"if\" + 0.002*\"строка\" + 0.002*\"name\" + 0.002*\"технология\" + 0.002*\"клиент\"'),\n",
       " (96,\n",
       "  '0.003*\"if\" + 0.003*\"файл\" + 0.003*\"a\" + 0.003*\"amp\" + 0.002*\"материал\" + 0.002*\"сервер\" + 0.002*\"технология\" + 0.002*\"база\" + 0.002*\"элемент\" + 0.002*\"управление\"'),\n",
       " (1,\n",
       "  '0.010*\"игра\" + 0.003*\"клиент\" + 0.003*\"игрок\" + 0.003*\"технология\" + 0.003*\"точка\" + 0.003*\"устройство\" + 0.002*\"сеть\" + 0.002*\"язык\" + 0.002*\"объект\" + 0.002*\"машина\"'),\n",
       " (28,\n",
       "  '0.007*\"файл\" + 0.005*\"сайт\" + 0.004*\"сеть\" + 0.004*\"доступ\" + 0.003*\"amp\" + 0.003*\"инструмент\" + 0.003*\"запись\" + 0.003*\"участник\" + 0.003*\"метод\" + 0.003*\"программа\"'),\n",
       " (83,\n",
       "  '0.005*\"клиент\" + 0.003*\"x\" + 0.003*\"список\" + 0.003*\"a\" + 0.003*\"px\" + 0.003*\"сервер\" + 0.003*\"точка\" + 0.003*\"устройство\" + 0.002*\"инструмент\" + 0.002*\"for\"'),\n",
       " (97,\n",
       "  '0.005*\"клиент\" + 0.004*\"ms\" + 0.004*\"устройство\" + 0.003*\"for\" + 0.003*\"сервер\" + 0.003*\"значение\" + 0.003*\"b\" + 0.003*\"i\" + 0.003*\"a\" + 0.002*\"файл\"'),\n",
       " (98,\n",
       "  '0.005*\"устройство\" + 0.003*\"объект\" + 0.003*\"язык\" + 0.003*\"продукт\" + 0.002*\"технология\" + 0.002*\"игра\" + 0.002*\"значение\" + 0.002*\"элемент\" + 0.002*\"исследование\" + 0.002*\"процессор\"'),\n",
       " (24,\n",
       "  '0.007*\"if\" + 0.005*\"сайт\" + 0.005*\"return\" + 0.004*\"метод\" + 0.004*\"модель\" + 0.004*\"звук\" + 0.004*\"amp\" + 0.004*\"объект\" + 0.003*\"string\" + 0.002*\"значение\"'),\n",
       " (35,\n",
       "  '0.005*\"игра\" + 0.003*\"the\" + 0.003*\"файл\" + 0.003*\"модель\" + 0.003*\"кнопка\" + 0.002*\"тест\" + 0.002*\"точка\" + 0.002*\"программа\" + 0.002*\"база\" + 0.002*\"экран\"'),\n",
       " (21,\n",
       "  '0.005*\"x\" + 0.003*\"запись\" + 0.003*\"массив\" + 0.003*\"ошибка\" + 0.003*\"язык\" + 0.003*\"строка\" + 0.002*\"клиент\" + 0.002*\"миллион\" + 0.002*\"элемент\" + 0.002*\"запрос\"'),\n",
       " (70,\n",
       "  '0.004*\"точка\" + 0.004*\"клиент\" + 0.004*\"amp\" + 0.003*\"if\" + 0.003*\"сеть\" + 0.003*\"список\" + 0.003*\"страница\" + 0.003*\"файл\" + 0.002*\"сайт\" + 0.002*\"устройство\"'),\n",
       " (20,\n",
       "  '0.007*\"option\" + 0.005*\"int\" + 0.005*\"файл\" + 0.005*\"a\" + 0.005*\"значение\" + 0.004*\"amp\" + 0.003*\"b\" + 0.003*\"язык\" + 0.003*\"c\" + 0.003*\"d\"'),\n",
       " (59,\n",
       "  '0.005*\"файл\" + 0.005*\"игра\" + 0.004*\"класс\" + 0.003*\"метод\" + 0.003*\"элемент\" + 0.003*\"int\" + 0.003*\"сервер\" + 0.003*\"amp\" + 0.003*\"сайт\" + 0.003*\"if\"'),\n",
       " (11,\n",
       "  '0.006*\"сайт\" + 0.004*\"amp\" + 0.003*\"игра\" + 0.003*\"технология\" + 0.002*\"клиент\" + 0.002*\"скорость\" + 0.002*\"x\" + 0.002*\"часы\" + 0.002*\"операция\" + 0.002*\"группа\"'),\n",
       " (71,\n",
       "  '0.005*\"метод\" + 0.005*\"объект\" + 0.004*\"if\" + 0.004*\"значение\" + 0.004*\"компонент\" + 0.004*\"устройство\" + 0.003*\"сеть\" + 0.003*\"класс\" + 0.003*\"end\" + 0.002*\"элемент\"'),\n",
       " (26,\n",
       "  '0.005*\"if\" + 0.004*\"игра\" + 0.003*\"значение\" + 0.003*\"сервер\" + 0.003*\"объект\" + 0.003*\"int\" + 0.003*\"сообщение\" + 0.003*\"сайт\" + 0.003*\"модель\" + 0.003*\"return\"'),\n",
       " (55,\n",
       "  '0.005*\"рынок\" + 0.004*\"цена\" + 0.004*\"точка\" + 0.003*\"устройство\" + 0.003*\"технология\" + 0.003*\"мозг\" + 0.002*\"область\" + 0.002*\"боль\" + 0.002*\"россия\" + 0.002*\"смартфон\"'),\n",
       " (45,\n",
       "  '0.007*\"устройство\" + 0.004*\"модель\" + 0.003*\"игра\" + 0.003*\"if\" + 0.003*\"the\" + 0.002*\"a\" + 0.002*\"файл\" + 0.002*\"технология\" + 0.002*\"программа\" + 0.002*\"option\"'),\n",
       " (16,\n",
       "  '0.008*\"if\" + 0.006*\"return\" + 0.005*\"public\" + 0.005*\"игра\" + 0.004*\"сеть\" + 0.004*\"new\" + 0.003*\"for\" + 0.003*\"a\" + 0.003*\"сайт\" + 0.003*\"and\"'),\n",
       " (15,\n",
       "  '0.003*\"устройство\" + 0.003*\"ключ\" + 0.003*\"c\" + 0.003*\"точка\" + 0.003*\"управление\" + 0.003*\"сеть\" + 0.003*\"сервер\" + 0.002*\"размер\" + 0.002*\"x\" + 0.002*\"кнопка\"')]"
      ]
     },
     "execution_count": 90,
     "metadata": {},
     "output_type": "execute_result"
    }
   ],
   "source": [
    "lda.print_topics() #для слов"
   ]
  },
  {
   "cell_type": "code",
   "execution_count": 50,
   "metadata": {
    "scrolled": true
   },
   "outputs": [
    {
     "data": {
      "text/plain": [
       "[(61,\n",
       "  '0.003*\"игра\" + 0.003*\"файл\" + 0.003*\"команда\" + 0.002*\"разработчик\" + 0.002*\"приложение\" + 0.002*\"gt\" + 0.002*\"потому\" + 0.002*\"код\" + 0.002*\"тут\" + 0.002*\"список\"'),\n",
       " (44,\n",
       "  '0.004*\"сайт\" + 0.004*\"тип\" + 0.003*\"сервер\" + 0.003*\"приложение\" + 0.002*\"команда\" + 0.002*\"метод\" + 0.002*\"значение\" + 0.002*\"тест\" + 0.002*\"запрос\" + 0.002*\"функция\"'),\n",
       " (89,\n",
       "  '0.004*\"функция\" + 0.003*\"сайт\" + 0.003*\"код\" + 0.002*\"игра\" + 0.002*\"приложение\" + 0.002*\"устройство\" + 0.002*\"потому\" + 0.002*\"метод\" + 0.002*\"файл\" + 0.002*\"ошибка\"'),\n",
       " (36,\n",
       "  '0.005*\"устройство\" + 0.003*\"команда\" + 0.002*\"ты\" + 0.002*\"сеть\" + 0.002*\"разработчик\" + 0.002*\"про\" + 0.002*\"задача\" + 0.002*\"приложение\" + 0.002*\"потому\" + 0.002*\"да\"'),\n",
       " (79,\n",
       "  '0.002*\"сервер\" + 0.002*\"слово\" + 0.002*\"сеть\" + 0.002*\"надо\" + 0.002*\"ошибка\" + 0.002*\"сайт\" + 0.002*\"машина\" + 0.002*\"gt_lt\" + 0.002*\"код\" + 0.002*\"сервис\"'),\n",
       " (24,\n",
       "  '0.003*\"технология\" + 0.003*\"устройство\" + 0.003*\"число\" + 0.002*\"программа\" + 0.002*\"карта\" + 0.002*\"датчик\" + 0.002*\"звук\" + 0.002*\"приложение\" + 0.002*\"про\" + 0.002*\"сервис\"'),\n",
       " (29,\n",
       "  '0.003*\"код\" + 0.002*\"телефон\" + 0.002*\"команда\" + 0.002*\"клиент\" + 0.002*\"ты\" + 0.002*\"хорошо\" + 0.002*\"над\" + 0.002*\"сотрудник\" + 0.002*\"слово\" + 0.002*\"сказать\"'),\n",
       " (7,\n",
       "  '0.002*\"код\" + 0.002*\"сайт\" + 0.002*\"ты\" + 0.002*\"приложение\" + 0.002*\"потому\" + 0.002*\"x_x\" + 0.002*\"сервис\" + 0.002*\"устройство\" + 0.002*\"объект\" + 0.002*\"тип\"'),\n",
       " (25,\n",
       "  '0.003*\"задача\" + 0.003*\"файл\" + 0.002*\"устройство\" + 0.002*\"надо\" + 0.002*\"функция\" + 0.002*\"клиент\" + 0.002*\"тест\" + 0.002*\"блок\" + 0.002*\"код\" + 0.002*\"строка\"'),\n",
       " (95,\n",
       "  '0.004*\"игра\" + 0.002*\"сайт\" + 0.002*\"устройство\" + 0.002*\"уровень\" + 0.002*\"надо\" + 0.002*\"хорошо\" + 0.002*\"x_x\" + 0.002*\"элемент\" + 0.002*\"камера\" + 0.002*\"число\"'),\n",
       " (35,\n",
       "  '0.004*\"сайт\" + 0.003*\"код\" + 0.002*\"приложение\" + 0.002*\"разработчик\" + 0.002*\"правило\" + 0.002*\"игра\" + 0.002*\"разработка\" + 0.002*\"запрос\" + 0.002*\"задача\" + 0.002*\"ваш\"'),\n",
       " (65,\n",
       "  '0.003*\"клиент\" + 0.003*\"игра\" + 0.002*\"тут\" + 0.002*\"сервер\" + 0.002*\"сказать\" + 0.002*\"хотеть\" + 0.002*\"задача\" + 0.002*\"любой\" + 0.002*\"ваш\" + 0.002*\"контроллер\"'),\n",
       " (67,\n",
       "  '0.002*\"звук\" + 0.002*\"приложение\" + 0.002*\"модель\" + 0.002*\"сервер\" + 0.002*\"задача\" + 0.002*\"запись\" + 0.002*\"процесс\" + 0.002*\"класс\" + 0.002*\"версия\" + 0.002*\"изображение\"'),\n",
       " (91,\n",
       "  '0.005*\"gt_lt\" + 0.005*\"lt_gt\" + 0.003*\"команда\" + 0.002*\"gt\" + 0.002*\"функция\" + 0.002*\"разработчик\" + 0.002*\"да\" + 0.002*\"игра\" + 0.002*\"либо\" + 0.002*\"имя\"'),\n",
       " (72,\n",
       "  '0.002*\"клиент\" + 0.002*\"объект\" + 0.002*\"потому\" + 0.002*\"функция\" + 0.002*\"сайт\" + 0.002*\"сеть\" + 0.002*\"продукт\" + 0.002*\"её\" + 0.002*\"видеть\" + 0.002*\"технология\"'),\n",
       " (18,\n",
       "  '0.003*\"сервер\" + 0.003*\"устройство\" + 0.003*\"приложение\" + 0.003*\"сайт\" + 0.002*\"клиент\" + 0.002*\"программа\" + 0.002*\"gt_lt\" + 0.002*\"процесс\" + 0.002*\"код\" + 0.002*\"a\"'),\n",
       " (96,\n",
       "  '0.003*\"устройство\" + 0.003*\"игра\" + 0.002*\"уровень\" + 0.002*\"тип\" + 0.002*\"программа\" + 0.002*\"код\" + 0.002*\"функция\" + 0.002*\"gt_lt\" + 0.002*\"потому\" + 0.002*\"значение\"'),\n",
       " (2,\n",
       "  '0.003*\"приложение\" + 0.002*\"продукт\" + 0.002*\"сервер\" + 0.002*\"технология\" + 0.002*\"устройство\" + 0.002*\"потому\" + 0.002*\"история\" + 0.002*\"знать\" + 0.002*\"код\" + 0.002*\"сервис\"'),\n",
       " (87,\n",
       "  '0.003*\"файл\" + 0.002*\"про\" + 0.002*\"потому\" + 0.002*\"gt\" + 0.002*\"функция\" + 0.002*\"настройка\" + 0.002*\"надо\" + 0.002*\"gt_lt\" + 0.002*\"день\" + 0.002*\"строка\"'),\n",
       " (58,\n",
       "  '0.003*\"про\" + 0.003*\"сайт\" + 0.003*\"клиент\" + 0.003*\"код\" + 0.002*\"надо\" + 0.002*\"знать\" + 0.002*\"тут\" + 0.002*\"gt\" + 0.002*\"номер\" + 0.002*\"да\"')]"
      ]
     },
     "execution_count": 50,
     "metadata": {},
     "output_type": "execute_result"
    }
   ],
   "source": [
    "lda.print_topics() #для нграмм"
   ]
  },
  {
   "cell_type": "markdown",
   "metadata": {},
   "source": [
    "Ещё есть штука для визуализации."
   ]
  },
  {
   "cell_type": "code",
   "execution_count": 51,
   "metadata": {
    "collapsed": true
   },
   "outputs": [],
   "source": [
    "pyLDAvis.enable_notebook()"
   ]
  },
  {
   "cell_type": "code",
   "execution_count": 26,
   "metadata": {
    "scrolled": true
   },
   "outputs": [
    {
     "name": "stderr",
     "output_type": "stream",
     "text": [
      "C:\\Users\\natus\\Anaconda3\\lib\\site-packages\\pyLDAvis\\_prepare.py:257: FutureWarning: Sorting because non-concatenation axis is not aligned. A future version\n",
      "of pandas will change to not sort by default.\n",
      "\n",
      "To accept the future behavior, pass 'sort=False'.\n",
      "\n",
      "To retain the current behavior and silence the warning, pass 'sort=True'.\n",
      "\n",
      "  return pd.concat([default_term_info] + list(topic_dfs))\n",
      "IOPub data rate exceeded.\n",
      "The notebook server will temporarily stop sending output\n",
      "to the client in order to avoid crashing it.\n",
      "To change this limit, set the config variable\n",
      "`--NotebookApp.iopub_data_rate_limit`.\n"
     ]
    }
   ],
   "source": [
    "pyLDAvis.gensim.prepare(lda, corpus, dictinary,sort_topics=True)"
   ]
  },
  {
   "cell_type": "markdown",
   "metadata": {},
   "source": [
    "Можно посмотреть метрики."
   ]
  },
  {
   "cell_type": "code",
   "execution_count": 91,
   "metadata": {
    "collapsed": true
   },
   "outputs": [],
   "source": [
    "import numpy as np"
   ]
  },
  {
   "cell_type": "code",
   "execution_count": 52,
   "metadata": {
    "collapsed": true
   },
   "outputs": [],
   "source": [
    "?lda.log_perplexity"
   ]
  },
  {
   "cell_type": "code",
   "execution_count": 53,
   "metadata": {},
   "outputs": [
    {
     "data": {
      "text/plain": [
       "-68.81212930489701"
      ]
     },
     "execution_count": 53,
     "metadata": {},
     "output_type": "execute_result"
    }
   ],
   "source": [
    "lda.log_perplexity(corpus[:2000], total_docs=100)"
   ]
  },
  {
   "cell_type": "code",
   "execution_count": 92,
   "metadata": {},
   "outputs": [
    {
     "data": {
      "text/plain": [
       "-51.95732477361044"
      ]
     },
     "execution_count": 92,
     "metadata": {},
     "output_type": "execute_result"
    }
   ],
   "source": [
    "lda.log_perplexity(corpus[:2000], total_docs=100)"
   ]
  },
  {
   "cell_type": "code",
   "execution_count": 93,
   "metadata": {},
   "outputs": [],
   "source": [
    "coherence_model_lda = gensim.models.CoherenceModel(model=lda, \n",
    "                                                   texts=ns_habr_texts, \n",
    "                                                   dictionary=dictinary, coherence='c_v')"
   ]
  },
  {
   "cell_type": "code",
   "execution_count": 94,
   "metadata": {
    "collapsed": true
   },
   "outputs": [],
   "source": [
    "topics = []\n",
    "for topic_id, topic in lda.show_topics(num_topics=100, formatted=False):\n",
    "    topic = [word for word, _ in topic]\n",
    "    topics.append(topic)"
   ]
  },
  {
   "cell_type": "code",
   "execution_count": 95,
   "metadata": {},
   "outputs": [],
   "source": [
    "coherence_model_lda = gensim.models.CoherenceModel(topics=topics, \n",
    "                                                   texts=ns_habr_texts, \n",
    "                                                   dictionary=dictinary, coherence='c_v')"
   ]
  },
  {
   "cell_type": "code",
   "execution_count": 58,
   "metadata": {},
   "outputs": [
    {
     "data": {
      "text/plain": [
       "0.3511312700366961"
      ]
     },
     "execution_count": 58,
     "metadata": {},
     "output_type": "execute_result"
    }
   ],
   "source": [
    "coherence_model_lda.get_coherence() #для нграмм"
   ]
  },
  {
   "cell_type": "code",
   "execution_count": 96,
   "metadata": {},
   "outputs": [
    {
     "data": {
      "text/plain": [
       "0.3754757004263717"
      ]
     },
     "execution_count": 96,
     "metadata": {},
     "output_type": "execute_result"
    }
   ],
   "source": [
    "coherence_model_lda.get_coherence() #для слов"
   ]
  },
  {
   "cell_type": "markdown",
   "metadata": {},
   "source": [
    "### Разложение матриц в sklearn"
   ]
  },
  {
   "cell_type": "code",
   "execution_count": 97,
   "metadata": {
    "collapsed": true
   },
   "outputs": [],
   "source": [
    "from sklearn.decomposition import NMF\n",
    "from sklearn.feature_extraction.text import CountVectorizer, TfidfVectorizer\n",
    "import pandas as pd"
   ]
  },
  {
   "cell_type": "markdown",
   "metadata": {},
   "source": [
    "Sklearn принимает на вход строки, поэтому склеим наши списки."
   ]
  },
  {
   "cell_type": "code",
   "execution_count": 98,
   "metadata": {
    "collapsed": true
   },
   "outputs": [],
   "source": [
    "stexts = [' '.join(text) for text in ns_habr_texts]"
   ]
  },
  {
   "cell_type": "markdown",
   "metadata": {},
   "source": [
    "Сделаем матрицу слова-документы с помощью TfidfVectorizer"
   ]
  },
  {
   "cell_type": "code",
   "execution_count": 99,
   "metadata": {
    "collapsed": true
   },
   "outputs": [],
   "source": [
    "vectorizer = TfidfVectorizer(max_features=25000, min_df=5, max_df=0.3, lowercase=False)\n",
    "X = vectorizer.fit_transform(stexts)"
   ]
  },
  {
   "cell_type": "markdown",
   "metadata": {},
   "source": [
    "Разложим её."
   ]
  },
  {
   "cell_type": "code",
   "execution_count": 100,
   "metadata": {
    "collapsed": true
   },
   "outputs": [],
   "source": [
    "model = NMF(n_components=30)"
   ]
  },
  {
   "cell_type": "code",
   "execution_count": 101,
   "metadata": {},
   "outputs": [
    {
     "data": {
      "text/plain": [
       "NMF(alpha=0.0, beta_loss='frobenius', init=None, l1_ratio=0.0, max_iter=200,\n",
       "  n_components=30, random_state=None, shuffle=False, solver='cd',\n",
       "  tol=0.0001, verbose=0)"
      ]
     },
     "execution_count": 101,
     "metadata": {},
     "output_type": "execute_result"
    }
   ],
   "source": [
    "model.fit(X)"
   ]
  },
  {
   "cell_type": "code",
   "execution_count": 40,
   "metadata": {
    "collapsed": true
   },
   "outputs": [],
   "source": [
    "def get_nmf_topics(model, n_top_words):\n",
    "    \n",
    "    #id слов.\n",
    "    feat_names = vectorizer.get_feature_names()\n",
    "    \n",
    "    word_dict = {};\n",
    "    for i in range(30):\n",
    "        \n",
    "        #топ n слов для темы.\n",
    "        words_ids = model.components_[i].argsort()[:-n_top_words - 1:-1]\n",
    "        words = [feat_names[key] for key in words_ids]\n",
    "        word_dict['Topic # ' + '{:02d}'.format(i+1)] = words;\n",
    "    \n",
    "    return pd.DataFrame(word_dict);"
   ]
  },
  {
   "cell_type": "code",
   "execution_count": 102,
   "metadata": {},
   "outputs": [
    {
     "data": {
      "text/html": [
       "<div>\n",
       "<style scoped>\n",
       "    .dataframe tbody tr th:only-of-type {\n",
       "        vertical-align: middle;\n",
       "    }\n",
       "\n",
       "    .dataframe tbody tr th {\n",
       "        vertical-align: top;\n",
       "    }\n",
       "\n",
       "    .dataframe thead th {\n",
       "        text-align: right;\n",
       "    }\n",
       "</style>\n",
       "<table border=\"1\" class=\"dataframe\">\n",
       "  <thead>\n",
       "    <tr style=\"text-align: right;\">\n",
       "      <th></th>\n",
       "      <th>Topic # 01</th>\n",
       "      <th>Topic # 02</th>\n",
       "      <th>Topic # 03</th>\n",
       "      <th>Topic # 04</th>\n",
       "      <th>Topic # 05</th>\n",
       "      <th>Topic # 06</th>\n",
       "      <th>Topic # 07</th>\n",
       "      <th>Topic # 08</th>\n",
       "      <th>Topic # 09</th>\n",
       "      <th>Topic # 10</th>\n",
       "      <th>...</th>\n",
       "      <th>Topic # 21</th>\n",
       "      <th>Topic # 22</th>\n",
       "      <th>Topic # 23</th>\n",
       "      <th>Topic # 24</th>\n",
       "      <th>Topic # 25</th>\n",
       "      <th>Topic # 26</th>\n",
       "      <th>Topic # 27</th>\n",
       "      <th>Topic # 28</th>\n",
       "      <th>Topic # 29</th>\n",
       "      <th>Topic # 30</th>\n",
       "    </tr>\n",
       "  </thead>\n",
       "  <tbody>\n",
       "    <tr>\n",
       "      <th>0</th>\n",
       "      <td>продукт</td>\n",
       "      <td>public</td>\n",
       "      <td>игра</td>\n",
       "      <td>ия</td>\n",
       "      <td>файл</td>\n",
       "      <td>сервер</td>\n",
       "      <td>устройство</td>\n",
       "      <td>космический</td>\n",
       "      <td>сертификат</td>\n",
       "      <td>android</td>\n",
       "      <td>...</td>\n",
       "      <td>бот</td>\n",
       "      <td>объект</td>\n",
       "      <td>язык</td>\n",
       "      <td>windows</td>\n",
       "      <td>книга</td>\n",
       "      <td>блокчейн</td>\n",
       "      <td>виртуальный</td>\n",
       "      <td>российский</td>\n",
       "      <td>звук</td>\n",
       "      <td>товар</td>\n",
       "    </tr>\n",
       "    <tr>\n",
       "      <th>1</th>\n",
       "      <td>сотрудник</td>\n",
       "      <td>string</td>\n",
       "      <td>игрок</td>\n",
       "      <td>обучение</td>\n",
       "      <td>папка</td>\n",
       "      <td>сеть</td>\n",
       "      <td>камера</td>\n",
       "      <td>спутник</td>\n",
       "      <td>ключ</td>\n",
       "      <td>google</td>\n",
       "      <td>...</td>\n",
       "      <td>сообщение</td>\n",
       "      <td>значение</td>\n",
       "      <td>программирование</td>\n",
       "      <td>microsoft</td>\n",
       "      <td>часы</td>\n",
       "      <td>технология</td>\n",
       "      <td>резервный</td>\n",
       "      <td>страна</td>\n",
       "      <td>сигнал</td>\n",
       "      <td>скидка</td>\n",
       "    </tr>\n",
       "    <tr>\n",
       "      <th>2</th>\n",
       "      <td>клиент</td>\n",
       "      <td>new</td>\n",
       "      <td>игровой</td>\n",
       "      <td>нейросеть</td>\n",
       "      <td>скрипт</td>\n",
       "      <td>клиент</td>\n",
       "      <td>смартфон</td>\n",
       "      <td>орбита</td>\n",
       "      <td>пароль</td>\n",
       "      <td>мобильный</td>\n",
       "      <td>...</td>\n",
       "      <td>telegram</td>\n",
       "      <td>элемент</td>\n",
       "      <td>php</td>\n",
       "      <td>linux</td>\n",
       "      <td>профессиональный</td>\n",
       "      <td>транзакция</td>\n",
       "      <td>машина</td>\n",
       "      <td>россия</td>\n",
       "      <td>наушник</td>\n",
       "      <td>цена</td>\n",
       "    </tr>\n",
       "    <tr>\n",
       "      <th>3</th>\n",
       "      <td>бизнес</td>\n",
       "      <td>return</td>\n",
       "      <td>играть</td>\n",
       "      <td>робот</td>\n",
       "      <td>sudo</td>\n",
       "      <td>услуга</td>\n",
       "      <td>датчик</td>\n",
       "      <td>марс</td>\n",
       "      <td>домен</td>\n",
       "      <td>ios</td>\n",
       "      <td>...</td>\n",
       "      <td>телеграм</td>\n",
       "      <td>метод</td>\n",
       "      <td>программист</td>\n",
       "      <td>visual</td>\n",
       "      <td>порекомендовать</td>\n",
       "      <td>криптовалюта</td>\n",
       "      <td>вм</td>\n",
       "      <td>налог</td>\n",
       "      <td>частота</td>\n",
       "      <td>магазин</td>\n",
       "    </tr>\n",
       "    <tr>\n",
       "      <th>4</th>\n",
       "      <td>программист</td>\n",
       "      <td>var</td>\n",
       "      <td>персонаж</td>\n",
       "      <td>интеллект</td>\n",
       "      <td>пакет</td>\n",
       "      <td>сервис</td>\n",
       "      <td>аккумулятор</td>\n",
       "      <td>аппарат</td>\n",
       "      <td>сервер</td>\n",
       "      <td>app</td>\n",
       "      <td>...</td>\n",
       "      <td>чат</td>\n",
       "      <td>класс</td>\n",
       "      <td>java</td>\n",
       "      <td>azure</td>\n",
       "      <td>предпочитать</td>\n",
       "      <td>финансовый</td>\n",
       "      <td>veeam</td>\n",
       "      <td>закон</td>\n",
       "      <td>усилитель</td>\n",
       "      <td>распродажа</td>\n",
       "    </tr>\n",
       "    <tr>\n",
       "      <th>5</th>\n",
       "      <td>заказчик</td>\n",
       "      <td>private</td>\n",
       "      <td>steam</td>\n",
       "      <td>искусственный</td>\n",
       "      <td>директория</td>\n",
       "      <td>облачный</td>\n",
       "      <td>телефон</td>\n",
       "      <td>земля</td>\n",
       "      <td>письмо</td>\n",
       "      <td>устройство</td>\n",
       "      <td>...</td>\n",
       "      <td>канал</td>\n",
       "      <td>алгоритм</td>\n",
       "      <td>лекция</td>\n",
       "      <td>studio</td>\n",
       "      <td>путь</td>\n",
       "      <td>ibm</td>\n",
       "      <td>бэкап</td>\n",
       "      <td>рынок</td>\n",
       "      <td>звуковой</td>\n",
       "      <td>покупатель</td>\n",
       "    </tr>\n",
       "    <tr>\n",
       "      <th>6</th>\n",
       "      <td>опыт</td>\n",
       "      <td>class</td>\n",
       "      <td>vr</td>\n",
       "      <td>сеть</td>\n",
       "      <td>строка</td>\n",
       "      <td>инфраструктура</td>\n",
       "      <td>корпус</td>\n",
       "      <td>луна</td>\n",
       "      <td>сообщение</td>\n",
       "      <td>tv</td>\n",
       "      <td>...</td>\n",
       "      <td>мессенджер</td>\n",
       "      <td>точка</td>\n",
       "      <td>перевод</td>\n",
       "      <td>server</td>\n",
       "      <td>слушать</td>\n",
       "      <td>биткойна</td>\n",
       "      <td>копирование</td>\n",
       "      <td>рубль</td>\n",
       "      <td>музыка</td>\n",
       "      <td>покупка</td>\n",
       "    </tr>\n",
       "    <tr>\n",
       "      <th>7</th>\n",
       "      <td>менеджер</td>\n",
       "      <td>void</td>\n",
       "      <td>unity</td>\n",
       "      <td>нейронный</td>\n",
       "      <td>http</td>\n",
       "      <td>облако</td>\n",
       "      <td>печать</td>\n",
       "      <td>полёт</td>\n",
       "      <td>токен</td>\n",
       "      <td>play</td>\n",
       "      <td>...</td>\n",
       "      <td>api</td>\n",
       "      <td>изображение</td>\n",
       "      <td>программа</td>\n",
       "      <td>браузер</td>\n",
       "      <td>бумажный</td>\n",
       "      <td>платформа</td>\n",
       "      <td>восстановление</td>\n",
       "      <td>доход</td>\n",
       "      <td>искажение</td>\n",
       "      <td>пятница</td>\n",
       "    </tr>\n",
       "    <tr>\n",
       "      <th>8</th>\n",
       "      <td>деньга</td>\n",
       "      <td>класс</td>\n",
       "      <td>движок</td>\n",
       "      <td>машинный</td>\n",
       "      <td>настройка</td>\n",
       "      <td>трафик</td>\n",
       "      <td>видео</td>\n",
       "      <td>станция</td>\n",
       "      <td>подпись</td>\n",
       "      <td>библиотека</td>\n",
       "      <td>...</td>\n",
       "      <td>сервис</td>\n",
       "      <td>блок</td>\n",
       "      <td>локализация</td>\n",
       "      <td>обновление</td>\n",
       "      <td>друг</td>\n",
       "      <td>платёж</td>\n",
       "      <td>копия</td>\n",
       "      <td>налоговый</td>\n",
       "      <td>акустический</td>\n",
       "      <td>чёрный</td>\n",
       "    </tr>\n",
       "    <tr>\n",
       "      <th>9</th>\n",
       "      <td>идея</td>\n",
       "      <td>if</td>\n",
       "      <td>геймплей</td>\n",
       "      <td>алгоритм</td>\n",
       "      <td>модуль</td>\n",
       "      <td>оборудование</td>\n",
       "      <td>батарея</td>\n",
       "      <td>ракета</td>\n",
       "      <td>адрес</td>\n",
       "      <td>дайджест</td>\n",
       "      <td>...</td>\n",
       "      <td>bot</td>\n",
       "      <td>свойство</td>\n",
       "      <td>python</td>\n",
       "      <td>ос</td>\n",
       "      <td>пользоваться</td>\n",
       "      <td>платёжный</td>\n",
       "      <td>диск</td>\n",
       "      <td>миллион</td>\n",
       "      <td>диапазон</td>\n",
       "      <td>заказ</td>\n",
       "    </tr>\n",
       "  </tbody>\n",
       "</table>\n",
       "<p>10 rows × 30 columns</p>\n",
       "</div>"
      ],
      "text/plain": [
       "    Topic # 01 Topic # 02 Topic # 03     Topic # 04  Topic # 05  \\\n",
       "0      продукт     public       игра             ия        файл   \n",
       "1    сотрудник     string      игрок       обучение       папка   \n",
       "2       клиент        new    игровой      нейросеть      скрипт   \n",
       "3       бизнес     return     играть          робот        sudo   \n",
       "4  программист        var   персонаж      интеллект       пакет   \n",
       "5     заказчик    private      steam  искусственный  директория   \n",
       "6         опыт      class         vr           сеть      строка   \n",
       "7     менеджер       void      unity      нейронный        http   \n",
       "8       деньга      класс     движок       машинный   настройка   \n",
       "9         идея         if   геймплей       алгоритм      модуль   \n",
       "\n",
       "       Topic # 06   Topic # 07   Topic # 08  Topic # 09  Topic # 10  \\\n",
       "0          сервер   устройство  космический  сертификат     android   \n",
       "1            сеть       камера      спутник        ключ      google   \n",
       "2          клиент     смартфон       орбита      пароль   мобильный   \n",
       "3          услуга       датчик         марс       домен         ios   \n",
       "4          сервис  аккумулятор      аппарат      сервер         app   \n",
       "5        облачный      телефон        земля      письмо  устройство   \n",
       "6  инфраструктура       корпус         луна   сообщение          tv   \n",
       "7          облако       печать        полёт       токен        play   \n",
       "8          трафик        видео      станция     подпись  библиотека   \n",
       "9    оборудование      батарея       ракета       адрес    дайджест   \n",
       "\n",
       "      ...      Topic # 21   Topic # 22        Topic # 23  Topic # 24  \\\n",
       "0     ...             бот       объект              язык     windows   \n",
       "1     ...       сообщение     значение  программирование   microsoft   \n",
       "2     ...        telegram      элемент               php       linux   \n",
       "3     ...        телеграм        метод       программист      visual   \n",
       "4     ...             чат        класс              java       azure   \n",
       "5     ...           канал     алгоритм            лекция      studio   \n",
       "6     ...      мессенджер        точка           перевод      server   \n",
       "7     ...             api  изображение         программа     браузер   \n",
       "8     ...          сервис         блок       локализация  обновление   \n",
       "9     ...             bot     свойство            python          ос   \n",
       "\n",
       "         Topic # 25    Topic # 26      Topic # 27  Topic # 28    Topic # 29  \\\n",
       "0             книга      блокчейн     виртуальный  российский          звук   \n",
       "1              часы    технология       резервный      страна        сигнал   \n",
       "2  профессиональный    транзакция          машина      россия       наушник   \n",
       "3   порекомендовать  криптовалюта              вм       налог       частота   \n",
       "4      предпочитать    финансовый           veeam       закон     усилитель   \n",
       "5              путь           ibm           бэкап       рынок      звуковой   \n",
       "6           слушать      биткойна     копирование       рубль        музыка   \n",
       "7          бумажный     платформа  восстановление       доход     искажение   \n",
       "8              друг        платёж           копия   налоговый  акустический   \n",
       "9      пользоваться     платёжный            диск     миллион      диапазон   \n",
       "\n",
       "   Topic # 30  \n",
       "0       товар  \n",
       "1      скидка  \n",
       "2        цена  \n",
       "3     магазин  \n",
       "4  распродажа  \n",
       "5  покупатель  \n",
       "6     покупка  \n",
       "7     пятница  \n",
       "8      чёрный  \n",
       "9       заказ  \n",
       "\n",
       "[10 rows x 30 columns]"
      ]
     },
     "execution_count": 102,
     "metadata": {},
     "output_type": "execute_result"
    }
   ],
   "source": [
    "get_nmf_topics(model, 10)#для слов"
   ]
  },
  {
   "cell_type": "code",
   "execution_count": 63,
   "metadata": {},
   "outputs": [
    {
     "data": {
      "text/html": [
       "<div>\n",
       "<style scoped>\n",
       "    .dataframe tbody tr th:only-of-type {\n",
       "        vertical-align: middle;\n",
       "    }\n",
       "\n",
       "    .dataframe tbody tr th {\n",
       "        vertical-align: top;\n",
       "    }\n",
       "\n",
       "    .dataframe thead th {\n",
       "        text-align: right;\n",
       "    }\n",
       "</style>\n",
       "<table border=\"1\" class=\"dataframe\">\n",
       "  <thead>\n",
       "    <tr style=\"text-align: right;\">\n",
       "      <th></th>\n",
       "      <th>Topic # 01</th>\n",
       "      <th>Topic # 02</th>\n",
       "      <th>Topic # 03</th>\n",
       "      <th>Topic # 04</th>\n",
       "      <th>Topic # 05</th>\n",
       "      <th>Topic # 06</th>\n",
       "      <th>Topic # 07</th>\n",
       "      <th>Topic # 08</th>\n",
       "      <th>Topic # 09</th>\n",
       "      <th>Topic # 10</th>\n",
       "      <th>...</th>\n",
       "      <th>Topic # 21</th>\n",
       "      <th>Topic # 22</th>\n",
       "      <th>Topic # 23</th>\n",
       "      <th>Topic # 24</th>\n",
       "      <th>Topic # 25</th>\n",
       "      <th>Topic # 26</th>\n",
       "      <th>Topic # 27</th>\n",
       "      <th>Topic # 28</th>\n",
       "      <th>Topic # 29</th>\n",
       "      <th>Topic # 30</th>\n",
       "    </tr>\n",
       "  </thead>\n",
       "  <tbody>\n",
       "    <tr>\n",
       "      <th>0</th>\n",
       "      <td>изображение</td>\n",
       "      <td>gt_lt</td>\n",
       "      <td>игра</td>\n",
       "      <td>рынок</td>\n",
       "      <td>задача</td>\n",
       "      <td>сервер</td>\n",
       "      <td>смартфон</td>\n",
       "      <td>приложение</td>\n",
       "      <td>спутник</td>\n",
       "      <td>товар</td>\n",
       "      <td>...</td>\n",
       "      <td>сигнал</td>\n",
       "      <td>бот</td>\n",
       "      <td>php</td>\n",
       "      <td>лекция</td>\n",
       "      <td>сайт</td>\n",
       "      <td>камера</td>\n",
       "      <td>звук</td>\n",
       "      <td>ты</td>\n",
       "      <td>блокчейн</td>\n",
       "      <td>файл</td>\n",
       "    </tr>\n",
       "    <tr>\n",
       "      <th>1</th>\n",
       "      <td>алгоритм</td>\n",
       "      <td>lt_gt</td>\n",
       "      <td>игрок</td>\n",
       "      <td>россия</td>\n",
       "      <td>программист</td>\n",
       "      <td>диск</td>\n",
       "      <td>телефон</td>\n",
       "      <td>android</td>\n",
       "      <td>марс</td>\n",
       "      <td>скидка</td>\n",
       "      <td>...</td>\n",
       "      <td>частота</td>\n",
       "      <td>telegram</td>\n",
       "      <td>yii</td>\n",
       "      <td>курс</td>\n",
       "      <td>страница</td>\n",
       "      <td>видео</td>\n",
       "      <td>наушник</td>\n",
       "      <td>надо</td>\n",
       "      <td>транзакция</td>\n",
       "      <td>скрипт</td>\n",
       "    </tr>\n",
       "    <tr>\n",
       "      <th>2</th>\n",
       "      <td>текстура</td>\n",
       "      <td>gt</td>\n",
       "      <td>играть</td>\n",
       "      <td>страна</td>\n",
       "      <td>команда</td>\n",
       "      <td>вм</td>\n",
       "      <td>устройство</td>\n",
       "      <td>ios</td>\n",
       "      <td>орбита</td>\n",
       "      <td>магазин</td>\n",
       "      <td>...</td>\n",
       "      <td>устройство</td>\n",
       "      <td>телеграм</td>\n",
       "      <td>symfony</td>\n",
       "      <td>студент</td>\n",
       "      <td>домен</td>\n",
       "      <td>регистратор</td>\n",
       "      <td>усилитель</td>\n",
       "      <td>да</td>\n",
       "      <td>криптовалюта</td>\n",
       "      <td>пакет</td>\n",
       "    </tr>\n",
       "    <tr>\n",
       "      <th>3</th>\n",
       "      <td>функция</td>\n",
       "      <td>lt</td>\n",
       "      <td>игровой</td>\n",
       "      <td>российский</td>\n",
       "      <td>сотрудник</td>\n",
       "      <td>виртуальный_машина</td>\n",
       "      <td>ноутбук</td>\n",
       "      <td>api</td>\n",
       "      <td>земля</td>\n",
       "      <td>чёрный_пятница</td>\n",
       "      <td>...</td>\n",
       "      <td>плата</td>\n",
       "      <td>сообщение</td>\n",
       "      <td>laravel</td>\n",
       "      <td>видео</td>\n",
       "      <td>реклама</td>\n",
       "      <td>blackvue</td>\n",
       "      <td>музыка</td>\n",
       "      <td>потому</td>\n",
       "      <td>биткойна</td>\n",
       "      <td>папка</td>\n",
       "    </tr>\n",
       "    <tr>\n",
       "      <th>4</th>\n",
       "      <td>значение</td>\n",
       "      <td>lt_div</td>\n",
       "      <td>персонаж</td>\n",
       "      <td>бизнес</td>\n",
       "      <td>разработчик</td>\n",
       "      <td>облако</td>\n",
       "      <td>дисплей</td>\n",
       "      <td>мобильный</td>\n",
       "      <td>наса</td>\n",
       "      <td>цена</td>\n",
       "      <td>...</td>\n",
       "      <td>антенна</td>\n",
       "      <td>канал</td>\n",
       "      <td>язык</td>\n",
       "      <td>вступительный</td>\n",
       "      <td>клиент</td>\n",
       "      <td>движение</td>\n",
       "      <td>микрофон</td>\n",
       "      <td>про</td>\n",
       "      <td>bitcoin</td>\n",
       "      <td>команда</td>\n",
       "    </tr>\n",
       "    <tr>\n",
       "      <th>5</th>\n",
       "      <td>объект</td>\n",
       "      <td>компонент</td>\n",
       "      <td>геймплей</td>\n",
       "      <td>услуга</td>\n",
       "      <td>клиент</td>\n",
       "      <td>кластер</td>\n",
       "      <td>аккумулятор</td>\n",
       "      <td>устройство</td>\n",
       "      <td>ракета</td>\n",
       "      <td>распродажа</td>\n",
       "      <td>...</td>\n",
       "      <td>датчик</td>\n",
       "      <td>мессенджер</td>\n",
       "      <td>прислать</td>\n",
       "      <td>профессор</td>\n",
       "      <td>контент</td>\n",
       "      <td>съёмка</td>\n",
       "      <td>звучание</td>\n",
       "      <td>твой</td>\n",
       "      <td>технология</td>\n",
       "      <td>настройка</td>\n",
       "    </tr>\n",
       "    <tr>\n",
       "      <th>6</th>\n",
       "      <td>модель</td>\n",
       "      <td>div_gt</td>\n",
       "      <td>steam</td>\n",
       "      <td>закон</td>\n",
       "      <td>продукт</td>\n",
       "      <td>хост</td>\n",
       "      <td>экран</td>\n",
       "      <td>платформа</td>\n",
       "      <td>луна</td>\n",
       "      <td>покупатель</td>\n",
       "      <td>...</td>\n",
       "      <td>приёмник</td>\n",
       "      <td>api</td>\n",
       "      <td>go</td>\n",
       "      <td>биология</td>\n",
       "      <td>браузер</td>\n",
       "      <td>кадр</td>\n",
       "      <td>читать_слушать</td>\n",
       "      <td>ну</td>\n",
       "      <td>блок</td>\n",
       "      <td>репозиторий</td>\n",
       "    </tr>\n",
       "    <tr>\n",
       "      <th>7</th>\n",
       "      <td>элемент</td>\n",
       "      <td>android_android</td>\n",
       "      <td>уровень</td>\n",
       "      <td>налог</td>\n",
       "      <td>заказчик</td>\n",
       "      <td>бэкап</td>\n",
       "      <td>планшет</td>\n",
       "      <td>мобильный_приложение</td>\n",
       "      <td>аппарат</td>\n",
       "      <td>покупка</td>\n",
       "      <td>...</td>\n",
       "      <td>канал</td>\n",
       "      <td>чат</td>\n",
       "      <td>java</td>\n",
       "      <td>преподаватель</td>\n",
       "      <td>трафик</td>\n",
       "      <td>объектив</td>\n",
       "      <td>звуковой</td>\n",
       "      <td>потом</td>\n",
       "      <td>валюта</td>\n",
       "      <td>директория</td>\n",
       "    </tr>\n",
       "    <tr>\n",
       "      <th>8</th>\n",
       "      <td>нейросеть</td>\n",
       "      <td>lt_input</td>\n",
       "      <td>unity</td>\n",
       "      <td>доход</td>\n",
       "      <td>разработка</td>\n",
       "      <td>резервный_копирование</td>\n",
       "      <td>xiaomi</td>\n",
       "      <td>библиотека</td>\n",
       "      <td>станция</td>\n",
       "      <td>продавец</td>\n",
       "      <td>...</td>\n",
       "      <td>сеть</td>\n",
       "      <td>лига</td>\n",
       "      <td>redis</td>\n",
       "      <td>школа</td>\n",
       "      <td>сертификат</td>\n",
       "      <td>ivideon</td>\n",
       "      <td>колонка</td>\n",
       "      <td>думать</td>\n",
       "      <td>ethereum</td>\n",
       "      <td>the</td>\n",
       "    </tr>\n",
       "    <tr>\n",
       "      <th>9</th>\n",
       "      <td>точка</td>\n",
       "      <td>lt_li</td>\n",
       "      <td>vr</td>\n",
       "      <td>инвестор</td>\n",
       "      <td>ваш</td>\n",
       "      <td>инфраструктура</td>\n",
       "      <td>клавиатура</td>\n",
       "      <td>ваш_приложение</td>\n",
       "      <td>полёт</td>\n",
       "      <td>акция</td>\n",
       "      <td>...</td>\n",
       "      <td>ток</td>\n",
       "      <td>сервис</td>\n",
       "      <td>массив</td>\n",
       "      <td>программирование</td>\n",
       "      <td>https</td>\n",
       "      <td>видеонаблюдение</td>\n",
       "      <td>громкость</td>\n",
       "      <td>сказать</td>\n",
       "      <td>blockchain</td>\n",
       "      <td>nginx</td>\n",
       "    </tr>\n",
       "  </tbody>\n",
       "</table>\n",
       "<p>10 rows × 30 columns</p>\n",
       "</div>"
      ],
      "text/plain": [
       "    Topic # 01       Topic # 02 Topic # 03  Topic # 04   Topic # 05  \\\n",
       "0  изображение            gt_lt       игра       рынок       задача   \n",
       "1     алгоритм            lt_gt      игрок      россия  программист   \n",
       "2     текстура               gt     играть      страна      команда   \n",
       "3      функция               lt    игровой  российский    сотрудник   \n",
       "4     значение           lt_div   персонаж      бизнес  разработчик   \n",
       "5       объект        компонент   геймплей      услуга       клиент   \n",
       "6       модель           div_gt      steam       закон      продукт   \n",
       "7      элемент  android_android    уровень       налог     заказчик   \n",
       "8    нейросеть         lt_input      unity       доход   разработка   \n",
       "9        точка            lt_li         vr    инвестор          ваш   \n",
       "\n",
       "              Topic # 06   Topic # 07            Topic # 08 Topic # 09  \\\n",
       "0                 сервер     смартфон            приложение    спутник   \n",
       "1                   диск      телефон               android       марс   \n",
       "2                     вм   устройство                   ios     орбита   \n",
       "3     виртуальный_машина      ноутбук                   api      земля   \n",
       "4                 облако      дисплей             мобильный       наса   \n",
       "5                кластер  аккумулятор            устройство     ракета   \n",
       "6                   хост        экран             платформа       луна   \n",
       "7                  бэкап      планшет  мобильный_приложение    аппарат   \n",
       "8  резервный_копирование       xiaomi            библиотека    станция   \n",
       "9         инфраструктура   клавиатура        ваш_приложение      полёт   \n",
       "\n",
       "       Topic # 10     ...       Topic # 21  Topic # 22 Topic # 23  \\\n",
       "0           товар     ...           сигнал         бот        php   \n",
       "1          скидка     ...          частота    telegram        yii   \n",
       "2         магазин     ...       устройство    телеграм    symfony   \n",
       "3  чёрный_пятница     ...            плата   сообщение    laravel   \n",
       "4            цена     ...          антенна       канал       язык   \n",
       "5      распродажа     ...           датчик  мессенджер   прислать   \n",
       "6      покупатель     ...         приёмник         api         go   \n",
       "7         покупка     ...            канал         чат       java   \n",
       "8        продавец     ...             сеть        лига      redis   \n",
       "9           акция     ...              ток      сервис     массив   \n",
       "\n",
       "         Topic # 24  Topic # 25       Topic # 26      Topic # 27 Topic # 28  \\\n",
       "0            лекция        сайт           камера            звук         ты   \n",
       "1              курс    страница            видео         наушник       надо   \n",
       "2           студент       домен      регистратор       усилитель         да   \n",
       "3             видео     реклама         blackvue          музыка     потому   \n",
       "4     вступительный      клиент         движение        микрофон        про   \n",
       "5         профессор     контент           съёмка        звучание       твой   \n",
       "6          биология     браузер             кадр  читать_слушать         ну   \n",
       "7     преподаватель      трафик         объектив        звуковой      потом   \n",
       "8             школа  сертификат          ivideon         колонка     думать   \n",
       "9  программирование       https  видеонаблюдение       громкость    сказать   \n",
       "\n",
       "     Topic # 29   Topic # 30  \n",
       "0      блокчейн         файл  \n",
       "1    транзакция       скрипт  \n",
       "2  криптовалюта        пакет  \n",
       "3      биткойна        папка  \n",
       "4       bitcoin      команда  \n",
       "5    технология    настройка  \n",
       "6          блок  репозиторий  \n",
       "7        валюта   директория  \n",
       "8      ethereum          the  \n",
       "9    blockchain        nginx  \n",
       "\n",
       "[10 rows x 30 columns]"
      ]
     },
     "execution_count": 63,
     "metadata": {},
     "output_type": "execute_result"
    }
   ],
   "source": [
    "get_nmf_topics(model, 10) #для нграмм"
   ]
  },
  {
   "cell_type": "markdown",
   "metadata": {},
   "source": [
    "Кажется, что NMF сработал лучше LDA в обоих случаях"
   ]
  }
 ],
 "metadata": {
  "kernelspec": {
   "display_name": "Python 3",
   "language": "python",
   "name": "python3"
  },
  "language_info": {
   "codemirror_mode": {
    "name": "ipython",
    "version": 3
   },
   "file_extension": ".py",
   "mimetype": "text/x-python",
   "name": "python",
   "nbconvert_exporter": "python",
   "pygments_lexer": "ipython3",
   "version": "3.6.2"
  }
 },
 "nbformat": 4,
 "nbformat_minor": 2
}
